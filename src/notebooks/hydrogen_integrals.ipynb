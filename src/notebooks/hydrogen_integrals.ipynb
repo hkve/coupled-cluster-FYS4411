{
 "cells": [
  {
   "cell_type": "code",
   "execution_count": 1,
   "id": "7bd4a94a",
   "metadata": {},
   "outputs": [],
   "source": [
    "import sympy as sp\n",
    "from sympy.physics import hydrogen"
   ]
  },
  {
   "cell_type": "code",
   "execution_count": 2,
   "id": "2b207896",
   "metadata": {},
   "outputs": [],
   "source": [
    "t1, t2, p1, p2 = sp.symbols(\"theta_1, theta_2, phi_1, phi_2\", real=True)\n",
    "x1, x2, Z = sp.symbols(\"x_1, x_2, Z\", real=True, positive=True)"
   ]
  },
  {
   "cell_type": "code",
   "execution_count": 3,
   "id": "2420f596",
   "metadata": {},
   "outputs": [],
   "source": [
    "def integrate(integrand):\n",
    "    # Limits for all integrals\n",
    "    limits = {\n",
    "        \"phi1\": (p1, 0, 2*sp.pi),\n",
    "        \"phi2\": (p2, 0, 2*sp.pi),\n",
    "        \"theta1\": (t1, 0, sp.pi),\n",
    "        \"theta2\": (t2, 0, sp.pi), \n",
    "        \"x1\": (x1, 0, sp.oo),\n",
    "        \"x2\": (x2, 0 , sp.oo)\n",
    "    }\n",
    "    \n",
    "    # Perform phi integrals\n",
    "    I = sp.integrate(integrand, limits[\"phi1\"]).simplify()\n",
    "    I = sp.integrate(I, limits[\"phi2\"]).simplify()\n",
    "    \n",
    "    # Perform theta integrals\n",
    "    I = sp.integrate(I, limits[\"theta2\"]).simplify()\n",
    "    I = sp.integrate(I, limits[\"theta1\"]).simplify()\n",
    "\n",
    "    I = I.subs(sp.sqrt(x1**2 - 2*x1*x2 + x2**2), abs(x1-x2))\n",
    "    I = I.subs(sp.sqrt(x1**2 + 2*x1*x2 + x2**2), abs(x1+x2))\n",
    "    \n",
    "    I = I.rewrite(sp.Abs, sp.Piecewise)\n",
    "    I = sp.integrate(I, limits[\"x2\"])\n",
    "    I = sp.integrate(I, limits[\"x1\"])\n",
    "    return I"
   ]
  },
  {
   "cell_type": "code",
   "execution_count": 7,
   "id": "2cf3ac71",
   "metadata": {},
   "outputs": [],
   "source": [
    "psi_a = hydrogen.Psi_nlm(1, 0, 0, x1, p1, t1)\n",
    "psi_b = hydrogen.Psi_nlm(1, 0, 0, x2, p2, t2)\n",
    "psi_g = hydrogen.Psi_nlm(1, 0, 0, x1, p1, t1)\n",
    "psi_d = hydrogen.Psi_nlm(1, 0, 0, x2, p2, t2)"
   ]
  },
  {
   "cell_type": "code",
   "execution_count": 8,
   "id": "8de4866f",
   "metadata": {},
   "outputs": [],
   "source": [
    "coulomb_term = 1 / (sp.sqrt(x1**2 + x2**2 - 2*x1*x2*sp.cos(t2)))\n",
    "jacobi = sp.sin(t1)*sp.sin(t2)*x1**2 * x2**2\n",
    "integrand = psi_a * psi_b * psi_g * psi_d * coulomb_term*jacobi\n",
    "ans = integrate(integrand)*Z"
   ]
  },
  {
   "cell_type": "code",
   "execution_count": 9,
   "id": "d4df91ab",
   "metadata": {},
   "outputs": [
    {
     "data": {
      "text/latex": [
       "$\\displaystyle \\frac{5 Z}{8}$"
      ],
      "text/plain": [
       "5*Z/8"
      ]
     },
     "execution_count": 9,
     "metadata": {},
     "output_type": "execute_result"
    }
   ],
   "source": [
    "ans"
   ]
  }
 ],
 "metadata": {
  "kernelspec": {
   "display_name": "Python 3 (ipykernel)",
   "language": "python",
   "name": "python3"
  },
  "language_info": {
   "codemirror_mode": {
    "name": "ipython",
    "version": 3
   },
   "file_extension": ".py",
   "mimetype": "text/x-python",
   "name": "python",
   "nbconvert_exporter": "python",
   "pygments_lexer": "ipython3",
   "version": "3.10.6"
  }
 },
 "nbformat": 4,
 "nbformat_minor": 5
}
