{
 "cells": [
  {
   "cell_type": "code",
   "execution_count": 22,
   "id": "a6d6961c",
   "metadata": {},
   "outputs": [],
   "source": [
    "import sympy as sp\n",
    "from IPython.display import display"
   ]
  },
  {
   "cell_type": "code",
   "execution_count": 19,
   "id": "7a990cbf",
   "metadata": {},
   "outputs": [],
   "source": [
    "x1, x2, y1, y2 = sp.symbols(\"x_1, x_2, y_1, y_2\", real=True)\n",
    "v = 1/sp.sqrt( (x1-x2)**2 + (y1-y2)**2)"
   ]
  },
  {
   "cell_type": "code",
   "execution_count": 13,
   "id": "4ca83def",
   "metadata": {},
   "outputs": [],
   "source": [
    "def phi(x, y, n):\n",
    "    return sp.hermite(n[0], x)*sp.hermite(n[1], y)*sp.exp(-(x**2+y**2)/2)"
   ]
  },
  {
   "cell_type": "code",
   "execution_count": 14,
   "id": "1c5aea29",
   "metadata": {},
   "outputs": [],
   "source": [
    "n_p, n_q, n_r, n_s = (0,0), (0,0), (0,0), (0,0) "
   ]
  },
  {
   "cell_type": "code",
   "execution_count": 20,
   "id": "b78259ec",
   "metadata": {},
   "outputs": [],
   "source": [
    "integrand = phi(x1,y1, n_p)*phi(x2,y2, n_q)*phi(x1,y1, n_r)*phi(x2,y2, n_s)*v"
   ]
  },
  {
   "cell_type": "code",
   "execution_count": 23,
   "id": "3bd0e562",
   "metadata": {},
   "outputs": [
    {
     "data": {
      "text/latex": [
       "$\\displaystyle e^{- x_{2}^{2}} e^{- y_{1}^{2}} e^{- y_{2}^{2}} \\int\\limits_{-\\infty}^{\\infty} \\frac{e^{- x_{1}^{2}}}{\\sqrt{x_{1}^{2} - 2 x_{1} x_{2} + x_{2}^{2} + y_{1}^{2} - 2 y_{1} y_{2} + y_{2}^{2}}}\\, dx_{1}$"
      ],
      "text/plain": [
       "exp(-x_2**2)*exp(-y_1**2)*exp(-y_2**2)*Integral(exp(-x_1**2)/sqrt(x_1**2 - 2*x_1*x_2 + x_2**2 + y_1**2 - 2*y_1*y_2 + y_2**2), (x_1, -oo, oo))"
      ]
     },
     "metadata": {},
     "output_type": "display_data"
    },
    {
     "data": {
      "text/latex": [
       "$\\displaystyle e^{- y_{1}^{2}} e^{- y_{2}^{2}} \\int\\limits_{-\\infty}^{\\infty} e^{- x_{2}^{2}} \\int\\limits_{-\\infty}^{\\infty} \\frac{e^{- x_{1}^{2}}}{\\sqrt{x_{1}^{2} - 2 x_{1} x_{2} + x_{2}^{2} + y_{1}^{2} - 2 y_{1} y_{2} + y_{2}^{2}}}\\, dx_{1}\\, dx_{2}$"
      ],
      "text/plain": [
       "exp(-y_1**2)*exp(-y_2**2)*Integral(exp(-x_2**2)*Integral(exp(-x_1**2)/sqrt(x_1**2 - 2*x_1*x_2 + x_2**2 + y_1**2 - 2*y_1*y_2 + y_2**2), (x_1, -oo, oo)), (x_2, -oo, oo))"
      ]
     },
     "metadata": {},
     "output_type": "display_data"
    },
    {
     "data": {
      "text/latex": [
       "$\\displaystyle e^{- y_{2}^{2}} \\int\\limits_{-\\infty}^{\\infty} e^{- y_{1}^{2}} \\int\\limits_{-\\infty}^{\\infty} e^{- x_{2}^{2}} \\int\\limits_{-\\infty}^{\\infty} \\frac{e^{- x_{1}^{2}}}{\\sqrt{x_{1}^{2} - 2 x_{1} x_{2} + x_{2}^{2} + y_{1}^{2} - 2 y_{1} y_{2} + y_{2}^{2}}}\\, dx_{1}\\, dx_{2}\\, dy_{1}$"
      ],
      "text/plain": [
       "exp(-y_2**2)*Integral(exp(-y_1**2)*Integral(exp(-x_2**2)*Integral(exp(-x_1**2)/sqrt(x_1**2 - 2*x_1*x_2 + x_2**2 + y_1**2 - 2*y_1*y_2 + y_2**2), (x_1, -oo, oo)), (x_2, -oo, oo)), (y_1, -oo, oo))"
      ]
     },
     "metadata": {},
     "output_type": "display_data"
    },
    {
     "data": {
      "text/latex": [
       "$\\displaystyle \\int\\limits_{-\\infty}^{\\infty} e^{- y_{2}^{2}} \\int\\limits_{-\\infty}^{\\infty} e^{- y_{1}^{2}} \\int\\limits_{-\\infty}^{\\infty} e^{- x_{2}^{2}} \\int\\limits_{-\\infty}^{\\infty} \\frac{e^{- x_{1}^{2}}}{\\sqrt{x_{1}^{2} - 2 x_{1} x_{2} + x_{2}^{2} + y_{1}^{2} - 2 y_{1} y_{2} + y_{2}^{2}}}\\, dx_{1}\\, dx_{2}\\, dy_{1}\\, dy_{2}$"
      ],
      "text/plain": [
       "Integral(exp(-y_2**2)*Integral(exp(-y_1**2)*Integral(exp(-x_2**2)*Integral(exp(-x_1**2)/sqrt(x_1**2 - 2*x_1*x_2 + x_2**2 + y_1**2 - 2*y_1*y_2 + y_2**2), (x_1, -oo, oo)), (x_2, -oo, oo)), (y_1, -oo, oo)), (y_2, -oo, oo))"
      ]
     },
     "metadata": {},
     "output_type": "display_data"
    }
   ],
   "source": [
    "var = [x1, x2, y1, y2]\n",
    "I = integrand\n",
    "for v in var:\n",
    "    opt = (v, -sp.oo, sp.oo)\n",
    "    I = sp.integrate(I, opt)\n",
    "    display(I)"
   ]
  },
  {
   "cell_type": "code",
   "execution_count": null,
   "id": "f4a4b051",
   "metadata": {},
   "outputs": [],
   "source": []
  }
 ],
 "metadata": {
  "kernelspec": {
   "display_name": "Python 3 (ipykernel)",
   "language": "python",
   "name": "python3"
  },
  "language_info": {
   "codemirror_mode": {
    "name": "ipython",
    "version": 3
   },
   "file_extension": ".py",
   "mimetype": "text/x-python",
   "name": "python",
   "nbconvert_exporter": "python",
   "pygments_lexer": "ipython3",
   "version": "3.10.6"
  }
 },
 "nbformat": 4,
 "nbformat_minor": 5
}
